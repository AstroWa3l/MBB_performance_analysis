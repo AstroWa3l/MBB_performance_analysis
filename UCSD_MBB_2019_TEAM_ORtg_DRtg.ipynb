{
 "cells": [
  {
   "cell_type": "code",
   "execution_count": 1,
   "metadata": {},
   "outputs": [],
   "source": [
    "#Importing packages\n",
    "import math as m\n",
    "import pandas as pd\n",
    "import matplotlib.pyplot as plt\n",
    "import numpy as np\n",
    "import seaborn as sns\n",
    "from sklearn.preprocessing import StandardScaler\n",
    "from sklearn.preprocessing import MinMaxScaler\n",
    "from sklearn.cluster import KMeans\n",
    "from sklearn.model_selection import train_test_split \n",
    "from sklearn.linear_model import LinearRegression\n",
    "from sklearn import metrics"
   ]
  },
  {
   "cell_type": "markdown",
   "metadata": {},
   "source": [
    "## Calculating the Offensive Efficiency Rating\n",
    "\n",
    "#### Game : UC San Diego Tritons @ Simon Fraser Clan \n",
    "#### Date : 11/8/2019\n"
   ]
  },
  {
   "cell_type": "code",
   "execution_count": 2,
   "metadata": {},
   "outputs": [],
   "source": [
    "OFER = []\n",
    "DFER = []\n",
    "\n",
    "TEAM_FGM = float(35)\n",
    "TEAM_FGA = float(69)\n",
    "TEAM_FTA = float(11)\n",
    "TEAM_FTM = float(9)\n",
    "TEAM_OREB = float(11)\n",
    "TEAM_DREB = float(29)\n",
    "TEAM_TO = float(11)\n",
    "OPP_FTA = float(21)\n",
    "OPP_FTM = float(18)\n",
    "OPP_FGA = float(58)\n",
    "OPP_FGM = float(25)\n",
    "OPP_OREB = float(4)\n",
    "OPP_DREB = float(21)\n",
    "OPP_TO = float(9)\n",
    "\n",
    "Total_Points = float(95)\n",
    "\n",
    "Total_Possesions = 0.5*((TEAM_FGA + 0.4*TEAM_FTA - 1.07*(TEAM_OREB/(TEAM_OREB+OPP_DREB))*(TEAM_FGA-TEAM_FGM)+TEAM_TO)\\\n",
    "                        +(OPP_FGA + 0.4*OPP_FTA - 1.07*(OPP_OREB/(OPP_OREB+TEAM_DREB))*(OPP_FGA-OPP_FGM)+OPP_TO))\n",
    "\n",
    "Game_OFER = 100*(Total_Points/Total_Possesions)\n",
    "OFER.append(Game_OFER)"
   ]
  },
  {
   "cell_type": "code",
   "execution_count": 3,
   "metadata": {},
   "outputs": [
    {
     "data": {
      "text/plain": [
       "132.853777810797"
      ]
     },
     "execution_count": 3,
     "metadata": {},
     "output_type": "execute_result"
    }
   ],
   "source": [
    "Game_OFER"
   ]
  },
  {
   "cell_type": "markdown",
   "metadata": {},
   "source": [
    "## Calculating the Deffensive Efficiency Rating\n",
    "\n",
    "#### Game : UC San Diego Tritons @ Simon Fraser Clan \n",
    "#### Date : 11/8/2019\n"
   ]
  },
  {
   "cell_type": "code",
   "execution_count": 4,
   "metadata": {},
   "outputs": [
    {
     "data": {
      "text/plain": [
       "97.89225733427148"
      ]
     },
     "execution_count": 4,
     "metadata": {},
     "output_type": "execute_result"
    }
   ],
   "source": [
    "Points_allowed = float(70)\n",
    "Game_DFER = 100*(Points_allowed / Total_Possesions)\n",
    "DFER.append(Game_DFER)\n",
    "Game_DFER"
   ]
  },
  {
   "cell_type": "markdown",
   "metadata": {},
   "source": [
    "## Calculating the Offensive Efficiency Rating\n",
    "\n",
    "#### Game : UC San Diego Tritons @ Western Washington Vikings\n",
    "#### Date : 11/9/2019\n"
   ]
  },
  {
   "cell_type": "code",
   "execution_count": 5,
   "metadata": {},
   "outputs": [],
   "source": [
    "Tritons_Game2_data = pd.read_excel('Tritons_GM2_Off_Deff_RTG_DATA.xlsx', sheet_name='Tritons')\n",
    "WWV_Game2_data = pd.read_excel('Tritons_GM2_Off_Deff_RTG_DATA.xlsx', sheet_name='WWV')"
   ]
  },
  {
   "cell_type": "code",
   "execution_count": 6,
   "metadata": {},
   "outputs": [],
   "source": [
    "TEAM_FGM = float(Tritons_Game2_data['FGM'])\n",
    "TEAM_FGA = float(Tritons_Game2_data['FGA'])\n",
    "TEAM_FTA = float(Tritons_Game2_data['FTA'])\n",
    "TEAM_FTM = float(Tritons_Game2_data['FTM'])\n",
    "TEAM_OREB = float(Tritons_Game2_data['OREB'])\n",
    "TEAM_DREB = float(Tritons_Game2_data['DREB'])\n",
    "TEAM_TO = float(Tritons_Game2_data['TO'])\n",
    "OPP_FTA = float(WWV_Game2_data['FTA'])\n",
    "OPP_FTM = float(WWV_Game2_data['FTM'])\n",
    "OPP_FGA = float(WWV_Game2_data['FGA'])\n",
    "OPP_FGM = float(WWV_Game2_data['FGM'])\n",
    "OPP_OREB = float(WWV_Game2_data['OREB'])\n",
    "OPP_DREB = float(WWV_Game2_data['DREB'])\n",
    "OPP_TO = float(WWV_Game2_data['TO'])"
   ]
  },
  {
   "cell_type": "code",
   "execution_count": 7,
   "metadata": {},
   "outputs": [
    {
     "data": {
      "text/plain": [
       "116.18985603669154"
      ]
     },
     "execution_count": 7,
     "metadata": {},
     "output_type": "execute_result"
    }
   ],
   "source": [
    "Total_Points = float(Tritons_Game2_data['Pts'])\n",
    "\n",
    "Total_Possesions = 0.5*((TEAM_FGA + 0.4*TEAM_FTA - 1.07*(TEAM_OREB/(TEAM_OREB+OPP_DREB))*(TEAM_FGA-TEAM_FGM)+TEAM_TO)\\\n",
    "                        +(OPP_FGA + 0.4*OPP_FTA - 1.07*(OPP_OREB/(OPP_OREB+TEAM_DREB))*(OPP_FGA-OPP_FGM)+OPP_TO))\n",
    "\n",
    "Game_OFER = 100*(Total_Points/Total_Possesions)\n",
    "OFER.append(Game_OFER)\n",
    "Game_OFER"
   ]
  },
  {
   "cell_type": "markdown",
   "metadata": {},
   "source": [
    "## Calculating the Defensive Efficiency Rating\n",
    "\n",
    "#### Game : UC San Diego Tritons @ Western Washington Vikings\n",
    "#### Date : 11/9/2019\n"
   ]
  },
  {
   "cell_type": "code",
   "execution_count": 8,
   "metadata": {},
   "outputs": [
    {
     "data": {
      "text/plain": [
       "105.48815877015416"
      ]
     },
     "execution_count": 8,
     "metadata": {},
     "output_type": "execute_result"
    }
   ],
   "source": [
    "Points_allowed = float(WWV_Game2_data['Pts'])\n",
    "Game_DFER = 100*(Points_allowed / Total_Possesions)\n",
    "DFER.append(Game_DFER)\n",
    "Game_DFER"
   ]
  },
  {
   "cell_type": "code",
   "execution_count": null,
   "metadata": {
    "scrolled": true
   },
   "outputs": [],
   "source": []
  },
  {
   "cell_type": "markdown",
   "metadata": {},
   "source": [
    "## Calculating the Offensive Efficiency Rating\n",
    "\n",
    "#### Game : UC San Diego Tritons @ Saint Martin's Saints\n",
    "#### Date : 11/11/2019\n"
   ]
  },
  {
   "cell_type": "code",
   "execution_count": 9,
   "metadata": {},
   "outputs": [],
   "source": [
    "Tritons_Game3_data = pd.read_excel('Tritons_GM3_Off_Deff_RTG_DATA.xlsx', sheet_name='Tritons')\n",
    "SMS_Game3_data = pd.read_excel('Tritons_GM3_Off_Deff_RTG_DATA.xlsx', sheet_name='ST.MS')"
   ]
  },
  {
   "cell_type": "code",
   "execution_count": 10,
   "metadata": {},
   "outputs": [],
   "source": [
    "TEAM_FGM = float(Tritons_Game3_data['FGM'])\n",
    "TEAM_FGA = float(Tritons_Game3_data['FGA'])\n",
    "TEAM_FTA = float(Tritons_Game3_data['FTA'])\n",
    "TEAM_FTM = float(Tritons_Game3_data['FTM'])\n",
    "TEAM_OREB = float(Tritons_Game3_data['OREB'])\n",
    "TEAM_DREB = float(Tritons_Game3_data['DREB'])\n",
    "TEAM_TO = float(Tritons_Game3_data['TO'])\n",
    "OPP_FTA = float(SMS_Game3_data['FTA'])\n",
    "OPP_FTM = float(SMS_Game3_data['FTM'])\n",
    "OPP_FGA = float(SMS_Game3_data['FGA'])\n",
    "OPP_FGM = float(SMS_Game3_data['FGM'])\n",
    "OPP_OREB = float(SMS_Game3_data['OREB'])\n",
    "OPP_DREB = float(SMS_Game3_data['DREB'])\n",
    "OPP_TO = float(SMS_Game3_data['TO'])"
   ]
  },
  {
   "cell_type": "code",
   "execution_count": 11,
   "metadata": {},
   "outputs": [
    {
     "data": {
      "text/plain": [
       "130.26792944407282"
      ]
     },
     "execution_count": 11,
     "metadata": {},
     "output_type": "execute_result"
    }
   ],
   "source": [
    "Total_Points = float(Tritons_Game3_data['Pts'])\n",
    "\n",
    "Total_Possesions = 0.5*((TEAM_FGA + 0.4*TEAM_FTA - 1.07*(TEAM_OREB/(TEAM_OREB+OPP_DREB))*(TEAM_FGA-TEAM_FGM)+TEAM_TO)\\\n",
    "                        +(OPP_FGA + 0.4*OPP_FTA - 1.07*(OPP_OREB/(OPP_OREB+TEAM_DREB))*(OPP_FGA-OPP_FGM)+OPP_TO))\n",
    "\n",
    "Game_OFER = 100*(Total_Points/Total_Possesions)\n",
    "OFER.append(Game_OFER)\n",
    "Game_OFER"
   ]
  },
  {
   "cell_type": "code",
   "execution_count": null,
   "metadata": {},
   "outputs": [],
   "source": []
  },
  {
   "cell_type": "markdown",
   "metadata": {},
   "source": [
    "## Calculating the Defensive Efficiency Rating\n",
    "\n",
    "#### Game : UC San Diego Tritons @ Saint Martin's Saints\n",
    "#### Date : 11/11/2019\n"
   ]
  },
  {
   "cell_type": "code",
   "execution_count": 12,
   "metadata": {},
   "outputs": [
    {
     "data": {
      "text/plain": [
       "81.41745590254551"
      ]
     },
     "execution_count": 12,
     "metadata": {},
     "output_type": "execute_result"
    }
   ],
   "source": [
    "Points_allowed = float(SMS_Game3_data['Pts'])\n",
    "Game_DFER = 100*(Points_allowed / Total_Possesions)\n",
    "DFER.append(Game_DFER)\n",
    "Game_DFER"
   ]
  },
  {
   "cell_type": "code",
   "execution_count": null,
   "metadata": {},
   "outputs": [],
   "source": []
  },
  {
   "cell_type": "markdown",
   "metadata": {},
   "source": [
    "## Calculating the Offensive Efficiency Rating\n",
    "\n",
    "#### Game : Point Loma Nazarene Sea Lions @ UC San Diego Tritons\n",
    "#### Date : 11/19/2019\n"
   ]
  },
  {
   "cell_type": "code",
   "execution_count": 13,
   "metadata": {},
   "outputs": [],
   "source": [
    "Tritons_Game4_data = pd.read_excel('Tritons_GM4_Off_Deff_RTG_DATA.xlsx', sheet_name='Tritons')\n",
    "SL_Game4_data = pd.read_excel('Tritons_GM4_Off_Deff_RTG_DATA.xlsx', sheet_name='SeaLions')"
   ]
  },
  {
   "cell_type": "code",
   "execution_count": 14,
   "metadata": {},
   "outputs": [],
   "source": [
    "TEAM_FGM = float(Tritons_Game4_data['FGM'])\n",
    "TEAM_FGA = float(Tritons_Game4_data['FGA'])\n",
    "TEAM_FTA = float(Tritons_Game4_data['FTA'])\n",
    "TEAM_FTM = float(Tritons_Game4_data['FTM'])\n",
    "TEAM_OREB = float(Tritons_Game4_data['OREB'])\n",
    "TEAM_DREB = float(Tritons_Game4_data['DREB'])\n",
    "TEAM_TO = float(Tritons_Game4_data['TO'])\n",
    "OPP_FTA = float(SL_Game4_data['FTA'])\n",
    "OPP_FTM = float(SL_Game4_data['FTM'])\n",
    "OPP_FGA = float(SL_Game4_data['FGA'])\n",
    "OPP_FGM = float(SL_Game4_data['FGM'])\n",
    "OPP_OREB = float(SL_Game4_data['OREB'])\n",
    "OPP_DREB = float(SL_Game4_data['DREB'])\n",
    "OPP_TO = float(SL_Game4_data['TO'])"
   ]
  },
  {
   "cell_type": "code",
   "execution_count": 15,
   "metadata": {},
   "outputs": [
    {
     "data": {
      "text/plain": [
       "130.2143198759159"
      ]
     },
     "execution_count": 15,
     "metadata": {},
     "output_type": "execute_result"
    }
   ],
   "source": [
    "Total_Points = float(Tritons_Game4_data['Pts'])\n",
    "\n",
    "Total_Possesions = 0.5*((TEAM_FGA + 0.4*TEAM_FTA - 1.07*(TEAM_OREB/(TEAM_OREB+OPP_DREB))*(TEAM_FGA-TEAM_FGM)+TEAM_TO)\\\n",
    "                        +(OPP_FGA + 0.4*OPP_FTA - 1.07*(OPP_OREB/(OPP_OREB+TEAM_DREB))*(OPP_FGA-OPP_FGM)+OPP_TO))\n",
    "\n",
    "Game_OFER = 100*(Total_Points/Total_Possesions)\n",
    "OFER.append(Game_OFER)\n",
    "Game_OFER"
   ]
  },
  {
   "cell_type": "markdown",
   "metadata": {},
   "source": [
    "## Calculating the Defensive Efficiency Rating\n",
    "\n",
    "#### Game : Point Loma Nazarene Sea Lions @ UC San Diego Tritons\n",
    "#### Date : 11/19/2019\n"
   ]
  },
  {
   "cell_type": "code",
   "execution_count": 16,
   "metadata": {},
   "outputs": [
    {
     "data": {
      "text/plain": [
       "93.22161536571252"
      ]
     },
     "execution_count": 16,
     "metadata": {},
     "output_type": "execute_result"
    }
   ],
   "source": [
    "Points_allowed = float(SL_Game4_data['Pts'])\n",
    "Game_DFER = 100*(Points_allowed / Total_Possesions)\n",
    "DFER.append(Game_DFER)\n",
    "Game_DFER"
   ]
  },
  {
   "cell_type": "code",
   "execution_count": 17,
   "metadata": {},
   "outputs": [
    {
     "name": "stdout",
     "output_type": "stream",
     "text": [
      "OFER: [132.853777810797, 116.18985603669154, 130.26792944407282, 130.2143198759159] \n",
      " DFER: [97.89225733427148, 105.48815877015416, 81.41745590254551, 93.22161536571252]\n"
     ]
    }
   ],
   "source": [
    "print('OFER:',OFER,'\\n','DFER:',DFER)"
   ]
  },
  {
   "cell_type": "code",
   "execution_count": null,
   "metadata": {},
   "outputs": [],
   "source": []
  },
  {
   "cell_type": "markdown",
   "metadata": {},
   "source": [
    "## Calculating the Offensive Efficiency Rating\n",
    "\n",
    "#### Game : Cal State San Marcos Cougars @ UC San Diego Tritons\n",
    "#### Date : 11/21/2019\n"
   ]
  },
  {
   "cell_type": "code",
   "execution_count": 18,
   "metadata": {},
   "outputs": [],
   "source": [
    "Tritons_Game5_data = pd.read_excel('Tritons_GM5_Off_Deff_RTG_DATA.xlsx', sheet_name='Tritons')\n",
    "SM_Game5_data = pd.read_excel('Tritons_GM5_Off_Deff_RTG_DATA.xlsx', sheet_name='Cougars')"
   ]
  },
  {
   "cell_type": "code",
   "execution_count": 19,
   "metadata": {},
   "outputs": [],
   "source": [
    "TEAM_FGM = float(Tritons_Game5_data['FGM'])\n",
    "TEAM_FGA = float(Tritons_Game5_data['FGA'])\n",
    "TEAM_FTA = float(Tritons_Game5_data['FTA'])\n",
    "TEAM_FTM = float(Tritons_Game5_data['FTM'])\n",
    "TEAM_OREB = float(Tritons_Game5_data['OREB'])\n",
    "TEAM_DREB = float(Tritons_Game5_data['DREB'])\n",
    "TEAM_TO = float(Tritons_Game5_data['TO'])\n",
    "OPP_FTA = float(SM_Game5_data['FTA'])\n",
    "OPP_FTM = float(SM_Game5_data['FTM'])\n",
    "OPP_FGA = float(SM_Game5_data['FGA'])\n",
    "OPP_FGM = float(SM_Game5_data['FGM'])\n",
    "OPP_OREB = float(SM_Game5_data['OREB'])\n",
    "OPP_DREB = float(SM_Game5_data['DREB'])\n",
    "OPP_TO = float(SM_Game5_data['TO'])"
   ]
  },
  {
   "cell_type": "code",
   "execution_count": 20,
   "metadata": {},
   "outputs": [
    {
     "data": {
      "text/plain": [
       "127.12653311183043"
      ]
     },
     "execution_count": 20,
     "metadata": {},
     "output_type": "execute_result"
    }
   ],
   "source": [
    "Total_Points = float(Tritons_Game5_data['Pts'])\n",
    "\n",
    "Total_Possesions = 0.5*((TEAM_FGA + 0.4*TEAM_FTA - 1.07*(TEAM_OREB/(TEAM_OREB+OPP_DREB))*(TEAM_FGA-TEAM_FGM)+TEAM_TO)\\\n",
    "                        +(OPP_FGA + 0.4*OPP_FTA - 1.07*(OPP_OREB/(OPP_OREB+TEAM_DREB))*(OPP_FGA-OPP_FGM)+OPP_TO))\n",
    "\n",
    "Game_OFER = 100*(Total_Points/Total_Possesions)\n",
    "OFER.append(Game_OFER)\n",
    "Game_OFER"
   ]
  },
  {
   "cell_type": "markdown",
   "metadata": {},
   "source": [
    "## Calculating the Defensive Efficiency Rating\n",
    "\n",
    "#### Game : Cal State San Marcos Cougars @ UC San Diego Tritons\n",
    "#### Date : 11/21/2019\n"
   ]
  },
  {
   "cell_type": "code",
   "execution_count": 21,
   "metadata": {},
   "outputs": [
    {
     "data": {
      "text/plain": [
       "84.7510220745536"
      ]
     },
     "execution_count": 21,
     "metadata": {},
     "output_type": "execute_result"
    }
   ],
   "source": [
    "Points_allowed = float(SM_Game5_data['Pts'])\n",
    "Game_DFER = 100*(Points_allowed / Total_Possesions)\n",
    "DFER.append(Game_DFER)\n",
    "Game_DFER"
   ]
  },
  {
   "cell_type": "code",
   "execution_count": 22,
   "metadata": {},
   "outputs": [
    {
     "name": "stdout",
     "output_type": "stream",
     "text": [
      "OFER: [132.853777810797, 116.18985603669154, 130.26792944407282, 130.2143198759159, 127.12653311183043] \n",
      " DFER: [97.89225733427148, 105.48815877015416, 81.41745590254551, 93.22161536571252, 84.7510220745536]\n"
     ]
    }
   ],
   "source": [
    "print('OFER:',OFER,'\\n','DFER:',DFER)"
   ]
  },
  {
   "cell_type": "code",
   "execution_count": null,
   "metadata": {},
   "outputs": [],
   "source": []
  },
  {
   "cell_type": "markdown",
   "metadata": {},
   "source": [
    "## Calculating the Offensive & Defensive Efficiency Rating\n",
    "\n",
    "#### Game : UC San Diego Tritons @ Cal State San Bernardino Coyotes\n",
    "#### Date : 11/24/2019\n"
   ]
  },
  {
   "cell_type": "code",
   "execution_count": 23,
   "metadata": {},
   "outputs": [],
   "source": [
    "Tritons_Game6_data = pd.read_excel('Tritons_GMS_Off_Deff_RTG_DATA.xlsx', sheet_name='GM6')"
   ]
  },
  {
   "cell_type": "code",
   "execution_count": 24,
   "metadata": {},
   "outputs": [],
   "source": [
    "TEAM_FGM = float(Tritons_Game6_data.loc[Tritons_Game6_data.Totals == 'Tritons','FGM'].values[0])\n",
    "TEAM_FGA = float(Tritons_Game6_data.loc[Tritons_Game6_data.Totals == 'Tritons','FGA'].values[0])\n",
    "TEAM_FTA = float(Tritons_Game6_data.loc[Tritons_Game6_data.Totals == 'Tritons','FTA'].values[0])\n",
    "TEAM_FTM = float(Tritons_Game6_data.loc[Tritons_Game6_data.Totals == 'Tritons','FTM'].values[0])\n",
    "TEAM_OREB = float(Tritons_Game6_data.loc[Tritons_Game6_data.Totals == 'Tritons','OREB'].values[0])\n",
    "TEAM_DREB = float(Tritons_Game6_data.loc[Tritons_Game6_data.Totals == 'Tritons','DREB'].values[0])\n",
    "TEAM_TO = float(Tritons_Game6_data.loc[Tritons_Game6_data.Totals == 'Tritons','TO'].values[0])\n",
    "OPP_FTA = float(Tritons_Game6_data.loc[Tritons_Game6_data.Totals == 'Coyotes','FTA'].values[0])\n",
    "OPP_FTM = float(Tritons_Game6_data.loc[Tritons_Game6_data.Totals == 'Coyotes','FTM'].values[0])\n",
    "OPP_FGA = float(Tritons_Game6_data.loc[Tritons_Game6_data.Totals == 'Coyotes','FGA'].values[0])\n",
    "OPP_FGM = float(Tritons_Game6_data.loc[Tritons_Game6_data.Totals == 'Coyotes','FGM'].values[0])\n",
    "OPP_OREB = float(Tritons_Game6_data.loc[Tritons_Game6_data.Totals == 'Coyotes','OREB'].values[0])\n",
    "OPP_DREB = float(Tritons_Game6_data.loc[Tritons_Game6_data.Totals == 'Coyotes','DREB'].values[0])\n",
    "OPP_TO = float(Tritons_Game6_data.loc[Tritons_Game6_data.Totals == 'Coyotes','TO'].values[0])"
   ]
  },
  {
   "cell_type": "code",
   "execution_count": 25,
   "metadata": {},
   "outputs": [
    {
     "name": "stdout",
     "output_type": "stream",
     "text": [
      "Tritons Game 6 TEAM_OFER: 115.64916361521756\n"
     ]
    }
   ],
   "source": [
    "Total_Points = float(Tritons_Game6_data.loc[Tritons_Game6_data.Totals == 'Tritons','Pts'].values[0])\n",
    "\n",
    "Total_Possesions = 0.5*((TEAM_FGA + 0.4*TEAM_FTA - 1.07*(TEAM_OREB/(TEAM_OREB+OPP_DREB))*(TEAM_FGA-TEAM_FGM)+TEAM_TO)\\\n",
    "                        +(OPP_FGA + 0.4*OPP_FTA - 1.07*(OPP_OREB/(OPP_OREB+TEAM_DREB))*(OPP_FGA-OPP_FGM)+OPP_TO))\n",
    "\n",
    "Game_OFER = 100*(Total_Points/Total_Possesions)\n",
    "OFER.append(Game_OFER)\n",
    "print('Tritons Game 6 TEAM_OFER:',Game_OFER)"
   ]
  },
  {
   "cell_type": "code",
   "execution_count": 26,
   "metadata": {},
   "outputs": [
    {
     "name": "stdout",
     "output_type": "stream",
     "text": [
      "Tritons Game 6 TEAM_DFER: 103.54634416711339\n"
     ]
    }
   ],
   "source": [
    "Points_allowed = float(Tritons_Game6_data.loc[Tritons_Game6_data.Totals == 'Coyotes','Pts'].values[0])\n",
    "Game_DFER = 100*(Points_allowed / Total_Possesions)\n",
    "DFER.append(Game_DFER)\n",
    "print('Tritons Game 6 TEAM_DFER:',Game_DFER)"
   ]
  },
  {
   "cell_type": "code",
   "execution_count": 27,
   "metadata": {},
   "outputs": [
    {
     "name": "stdout",
     "output_type": "stream",
     "text": [
      "OFER: [132.853777810797, 116.18985603669154, 130.26792944407282, 130.2143198759159, 127.12653311183043, 115.64916361521756] \n",
      " DFER: [97.89225733427148, 105.48815877015416, 81.41745590254551, 93.22161536571252, 84.7510220745536, 103.54634416711339]\n"
     ]
    }
   ],
   "source": [
    "print('OFER:',OFER,'\\n','DFER:',DFER)"
   ]
  },
  {
   "cell_type": "code",
   "execution_count": null,
   "metadata": {},
   "outputs": [],
   "source": []
  },
  {
   "cell_type": "markdown",
   "metadata": {},
   "source": [
    "## Calculating the Offensive & Defensive Efficiency Rating\n",
    "\n",
    "#### Game : UC San Diego Tritons @ Holy Names Hawks\n",
    "#### Date : 11/29/2019\n"
   ]
  },
  {
   "cell_type": "code",
   "execution_count": 28,
   "metadata": {},
   "outputs": [],
   "source": [
    "Tritons_Game_data = pd.read_excel('Tritons_GMS_Off_Deff_RTG_DATA.xlsx', sheet_name='GM7')"
   ]
  },
  {
   "cell_type": "code",
   "execution_count": 29,
   "metadata": {},
   "outputs": [],
   "source": [
    "TEAM_FGM = float(Tritons_Game_data.loc[Tritons_Game_data.Totals == 'Tritons','FGM'].values[0])\n",
    "TEAM_FGA = float(Tritons_Game_data.loc[Tritons_Game_data.Totals == 'Tritons','FGA'].values[0])\n",
    "TEAM_FTA = float(Tritons_Game_data.loc[Tritons_Game_data.Totals == 'Tritons','FTA'].values[0])\n",
    "TEAM_FTM = float(Tritons_Game_data.loc[Tritons_Game_data.Totals == 'Tritons','FTM'].values[0])\n",
    "TEAM_OREB = float(Tritons_Game_data.loc[Tritons_Game_data.Totals == 'Tritons','OREB'].values[0])\n",
    "TEAM_DREB = float(Tritons_Game_data.loc[Tritons_Game_data.Totals == 'Tritons','DREB'].values[0])\n",
    "TEAM_TO = float(Tritons_Game_data.loc[Tritons_Game_data.Totals == 'Tritons','TO'].values[0])\n",
    "OPP_FTA = float(Tritons_Game_data.loc[Tritons_Game_data.Totals == 'Hawks','FTA'].values[0])\n",
    "OPP_FTM = float(Tritons_Game_data.loc[Tritons_Game_data.Totals == 'Hawks','FTM'].values[0])\n",
    "OPP_FGA = float(Tritons_Game_data.loc[Tritons_Game_data.Totals == 'Hawks','FGA'].values[0])\n",
    "OPP_FGM = float(Tritons_Game_data.loc[Tritons_Game_data.Totals == 'Hawks','FGM'].values[0])\n",
    "OPP_OREB = float(Tritons_Game_data.loc[Tritons_Game_data.Totals == 'Hawks','OREB'].values[0])\n",
    "OPP_DREB = float(Tritons_Game_data.loc[Tritons_Game_data.Totals == 'Hawks','DREB'].values[0])\n",
    "OPP_TO = float(Tritons_Game_data.loc[Tritons_Game_data.Totals == 'Hawks','TO'].values[0])"
   ]
  },
  {
   "cell_type": "code",
   "execution_count": 30,
   "metadata": {},
   "outputs": [
    {
     "name": "stdout",
     "output_type": "stream",
     "text": [
      "Tritons Game 7 TEAM_OFER: 147.33940684791753\n"
     ]
    }
   ],
   "source": [
    "Total_Points = float(Tritons_Game_data.loc[Tritons_Game_data.Totals == 'Tritons','Pts'].values[0])\n",
    "\n",
    "Total_Possesions = 0.5*((TEAM_FGA + 0.4*TEAM_FTA - 1.07*(TEAM_OREB/(TEAM_OREB+OPP_DREB))*(TEAM_FGA-TEAM_FGM)+TEAM_TO)\\\n",
    "                        +(OPP_FGA + 0.4*OPP_FTA - 1.07*(OPP_OREB/(OPP_OREB+TEAM_DREB))*(OPP_FGA-OPP_FGM)+OPP_TO))\n",
    "\n",
    "Game_OFER = 100*(Total_Points/Total_Possesions)\n",
    "OFER.append(Game_OFER)\n",
    "print('Tritons Game 7 TEAM_OFER:',Game_OFER)"
   ]
  },
  {
   "cell_type": "code",
   "execution_count": 31,
   "metadata": {},
   "outputs": [
    {
     "name": "stdout",
     "output_type": "stream",
     "text": [
      "Tritons Game 7 TEAM_DFER: 120.27706681462655\n"
     ]
    }
   ],
   "source": [
    "Points_allowed = float(Tritons_Game_data.loc[Tritons_Game6_data.Totals == 'Coyotes','Pts'].values[0])\n",
    "Game_DFER = 100*(Points_allowed / Total_Possesions)\n",
    "DFER.append(Game_DFER)\n",
    "print('Tritons Game 7 TEAM_DFER:',Game_DFER)"
   ]
  },
  {
   "cell_type": "code",
   "execution_count": 32,
   "metadata": {},
   "outputs": [
    {
     "name": "stdout",
     "output_type": "stream",
     "text": [
      "OFER: [132.853777810797, 116.18985603669154, 130.26792944407282, 130.2143198759159, 127.12653311183043, 115.64916361521756, 147.33940684791753] \n",
      " DFER: [97.89225733427148, 105.48815877015416, 81.41745590254551, 93.22161536571252, 84.7510220745536, 103.54634416711339, 120.27706681462655]\n"
     ]
    }
   ],
   "source": [
    "print('OFER:',OFER,'\\n','DFER:',DFER)"
   ]
  },
  {
   "cell_type": "code",
   "execution_count": 33,
   "metadata": {},
   "outputs": [
    {
     "name": "stdout",
     "output_type": "stream",
     "text": [
      "True\n"
     ]
    }
   ],
   "source": [
    "print(len(OFER)==len(DFER))"
   ]
  },
  {
   "cell_type": "code",
   "execution_count": null,
   "metadata": {},
   "outputs": [],
   "source": []
  },
  {
   "cell_type": "markdown",
   "metadata": {},
   "source": [
    "## Calculating the Offensive & Defensive Efficiency Rating\n",
    "\n",
    "#### Game : UC San Diego Tritons @ Notre Dame De Namur (CA) Argonauts\n",
    "#### Date : 11/30/2019\n"
   ]
  },
  {
   "cell_type": "code",
   "execution_count": 34,
   "metadata": {},
   "outputs": [],
   "source": [
    "Tritons_Game_data = pd.read_excel('Tritons_GMS_Off_Deff_RTG_DATA.xlsx', sheet_name='GM8')"
   ]
  },
  {
   "cell_type": "code",
   "execution_count": 35,
   "metadata": {},
   "outputs": [],
   "source": [
    "TEAM_FGM = float(Tritons_Game_data.loc[Tritons_Game_data.Totals == 'Tritons','FGM'].values[0])\n",
    "TEAM_FGA = float(Tritons_Game_data.loc[Tritons_Game_data.Totals == 'Tritons','FGA'].values[0])\n",
    "TEAM_FTA = float(Tritons_Game_data.loc[Tritons_Game_data.Totals == 'Tritons','FTA'].values[0])\n",
    "TEAM_FTM = float(Tritons_Game_data.loc[Tritons_Game_data.Totals == 'Tritons','FTM'].values[0])\n",
    "TEAM_OREB = float(Tritons_Game_data.loc[Tritons_Game_data.Totals == 'Tritons','OREB'].values[0])\n",
    "TEAM_DREB = float(Tritons_Game_data.loc[Tritons_Game_data.Totals == 'Tritons','DREB'].values[0])\n",
    "TEAM_TO = float(Tritons_Game_data.loc[Tritons_Game_data.Totals == 'Tritons','TO'].values[0])\n",
    "OPP_FTA = float(Tritons_Game_data.loc[Tritons_Game_data.Totals == 'Argonauts','FTA'].values[0])\n",
    "OPP_FTM = float(Tritons_Game_data.loc[Tritons_Game_data.Totals == 'Argonauts','FTM'].values[0])\n",
    "OPP_FGA = float(Tritons_Game_data.loc[Tritons_Game_data.Totals == 'Argonauts','FGA'].values[0])\n",
    "OPP_FGM = float(Tritons_Game_data.loc[Tritons_Game_data.Totals == 'Argonauts','FGM'].values[0])\n",
    "OPP_OREB = float(Tritons_Game_data.loc[Tritons_Game_data.Totals == 'Argonauts','OREB'].values[0])\n",
    "OPP_DREB = float(Tritons_Game_data.loc[Tritons_Game_data.Totals == 'Argonauts','DREB'].values[0])\n",
    "OPP_TO = float(Tritons_Game_data.loc[Tritons_Game_data.Totals == 'Argonauts','TO'].values[0])"
   ]
  },
  {
   "cell_type": "code",
   "execution_count": 36,
   "metadata": {},
   "outputs": [
    {
     "name": "stdout",
     "output_type": "stream",
     "text": [
      "Tritons Game 8 TEAM_OFER: 145.79581861977036\n"
     ]
    }
   ],
   "source": [
    "Total_Points = float(Tritons_Game_data.loc[Tritons_Game_data.Totals == 'Tritons','Pts'].values[0])\n",
    "\n",
    "Total_Possesions = 0.5*((TEAM_FGA + 0.4*TEAM_FTA - 1.07*(TEAM_OREB/(TEAM_OREB+OPP_DREB))*(TEAM_FGA-TEAM_FGM)+TEAM_TO)\\\n",
    "                        +(OPP_FGA + 0.4*OPP_FTA - 1.07*(OPP_OREB/(OPP_OREB+TEAM_DREB))*(OPP_FGA-OPP_FGM)+OPP_TO))\n",
    "\n",
    "Game_OFER = 100*(Total_Points/Total_Possesions)\n",
    "OFER.append(Game_OFER)\n",
    "print('Tritons Game 8 TEAM_OFER:',Game_OFER)"
   ]
  },
  {
   "cell_type": "code",
   "execution_count": 37,
   "metadata": {},
   "outputs": [
    {
     "name": "stdout",
     "output_type": "stream",
     "text": [
      "Tritons Game 8 TEAM_DFER: 96.6856481373214\n"
     ]
    }
   ],
   "source": [
    "Points_allowed = float(Tritons_Game_data.loc[Tritons_Game6_data.Totals == 'Coyotes','Pts'].values[0])\n",
    "Game_DFER = 100*(Points_allowed / Total_Possesions)\n",
    "DFER.append(Game_DFER)\n",
    "print('Tritons Game 8 TEAM_DFER:',Game_DFER)"
   ]
  },
  {
   "cell_type": "code",
   "execution_count": null,
   "metadata": {},
   "outputs": [],
   "source": []
  },
  {
   "cell_type": "markdown",
   "metadata": {},
   "source": [
    "## Calculating the Offensive & Defensive Efficiency Rating\n",
    "\n",
    "#### Game : Chico State Wildcats @ UC San Diego Tritons\n",
    "#### Date : 12/5/2019\n"
   ]
  },
  {
   "cell_type": "code",
   "execution_count": 38,
   "metadata": {},
   "outputs": [],
   "source": [
    "Tritons_Game_data = pd.read_excel('Tritons_GMS_Off_Deff_RTG_DATA.xlsx', sheet_name='GM9')"
   ]
  },
  {
   "cell_type": "code",
   "execution_count": 39,
   "metadata": {},
   "outputs": [],
   "source": [
    "TEAM_FGM = float(Tritons_Game_data.loc[Tritons_Game_data.Totals == 'Tritons','FGM'].values[0])\n",
    "TEAM_FGA = float(Tritons_Game_data.loc[Tritons_Game_data.Totals == 'Tritons','FGA'].values[0])\n",
    "TEAM_FTA = float(Tritons_Game_data.loc[Tritons_Game_data.Totals == 'Tritons','FTA'].values[0])\n",
    "TEAM_FTM = float(Tritons_Game_data.loc[Tritons_Game_data.Totals == 'Tritons','FTM'].values[0])\n",
    "TEAM_OREB = float(Tritons_Game_data.loc[Tritons_Game_data.Totals == 'Tritons','OREB'].values[0])\n",
    "TEAM_DREB = float(Tritons_Game_data.loc[Tritons_Game_data.Totals == 'Tritons','DREB'].values[0])\n",
    "TEAM_TO = float(Tritons_Game_data.loc[Tritons_Game_data.Totals == 'Tritons','TO'].values[0])\n",
    "OPP_FTA = float(Tritons_Game_data.loc[Tritons_Game_data.Totals == 'Wildcats','FTA'].values[0])\n",
    "OPP_FTM = float(Tritons_Game_data.loc[Tritons_Game_data.Totals == 'Wildcats','FTM'].values[0])\n",
    "OPP_FGA = float(Tritons_Game_data.loc[Tritons_Game_data.Totals == 'Wildcats','FGA'].values[0])\n",
    "OPP_FGM = float(Tritons_Game_data.loc[Tritons_Game_data.Totals == 'Wildcats','FGM'].values[0])\n",
    "OPP_OREB = float(Tritons_Game_data.loc[Tritons_Game_data.Totals == 'Wildcats','OREB'].values[0])\n",
    "OPP_DREB = float(Tritons_Game_data.loc[Tritons_Game_data.Totals == 'Wildcats','DREB'].values[0])\n",
    "OPP_TO = float(Tritons_Game_data.loc[Tritons_Game_data.Totals == 'Wildcats','TO'].values[0])"
   ]
  },
  {
   "cell_type": "code",
   "execution_count": 40,
   "metadata": {},
   "outputs": [
    {
     "name": "stdout",
     "output_type": "stream",
     "text": [
      "Tritons Game 9 TEAM_OFER: 106.99158235176294\n"
     ]
    }
   ],
   "source": [
    "Total_Points = float(Tritons_Game_data.loc[Tritons_Game_data.Totals == 'Tritons','Pts'].values[0])\n",
    "\n",
    "Total_Possesions = 0.5*((TEAM_FGA + 0.4*TEAM_FTA - 1.07*(TEAM_OREB/(TEAM_OREB+OPP_DREB))*(TEAM_FGA-TEAM_FGM)+TEAM_TO)\\\n",
    "                        +(OPP_FGA + 0.4*OPP_FTA - 1.07*(OPP_OREB/(OPP_OREB+TEAM_DREB))*(OPP_FGA-OPP_FGM)+OPP_TO))\n",
    "\n",
    "Game_OFER = 100*(Total_Points/Total_Possesions)\n",
    "OFER.append(Game_OFER)\n",
    "print('Tritons Game 9 TEAM_OFER:',Game_OFER)"
   ]
  },
  {
   "cell_type": "code",
   "execution_count": 41,
   "metadata": {},
   "outputs": [
    {
     "name": "stdout",
     "output_type": "stream",
     "text": [
      "Tritons Game 9 TEAM_DFER: 118.71668726702462\n"
     ]
    }
   ],
   "source": [
    "Points_allowed = float(Tritons_Game_data.loc[Tritons_Game6_data.Totals == 'Coyotes','Pts'].values[0])\n",
    "Game_DFER = 100*(Points_allowed / Total_Possesions)\n",
    "DFER.append(Game_DFER)\n",
    "print('Tritons Game 9 TEAM_DFER:',Game_DFER)"
   ]
  },
  {
   "cell_type": "code",
   "execution_count": 43,
   "metadata": {},
   "outputs": [
    {
     "data": {
      "text/plain": [
       "128.0475986348862"
      ]
     },
     "execution_count": 43,
     "metadata": {},
     "output_type": "execute_result"
    }
   ],
   "source": [
    "avg_OFER = sum(OFER)/len(OFER)\n",
    "avg_OFER"
   ]
  },
  {
   "cell_type": "code",
   "execution_count": 45,
   "metadata": {},
   "outputs": [
    {
     "data": {
      "text/plain": [
       "100.22180620370258"
      ]
     },
     "execution_count": 45,
     "metadata": {},
     "output_type": "execute_result"
    }
   ],
   "source": [
    "avg_DFER = sum(DFER)/len(DFER)\n",
    "avg_DFER"
   ]
  },
  {
   "cell_type": "code",
   "execution_count": null,
   "metadata": {},
   "outputs": [],
   "source": []
  }
 ],
 "metadata": {
  "kernelspec": {
   "display_name": "Python 3",
   "language": "python",
   "name": "python3"
  },
  "language_info": {
   "codemirror_mode": {
    "name": "ipython",
    "version": 3
   },
   "file_extension": ".py",
   "mimetype": "text/x-python",
   "name": "python",
   "nbconvert_exporter": "python",
   "pygments_lexer": "ipython3",
   "version": "3.7.4"
  }
 },
 "nbformat": 4,
 "nbformat_minor": 2
}
