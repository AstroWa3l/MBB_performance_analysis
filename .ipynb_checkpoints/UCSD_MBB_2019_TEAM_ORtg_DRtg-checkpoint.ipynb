{
 "cells": [
  {
   "cell_type": "code",
   "execution_count": 49,
   "metadata": {},
   "outputs": [],
   "source": [
    "#Importing packages\n",
    "import math as m\n",
    "import pandas as pd\n",
    "import matplotlib.pyplot as plt\n",
    "import numpy as np\n",
    "import seaborn as sns\n",
    "from sklearn.preprocessing import StandardScaler\n",
    "from sklearn.preprocessing import MinMaxScaler\n",
    "from sklearn.cluster import KMeans\n",
    "from sklearn.model_selection import train_test_split \n",
    "from sklearn.linear_model import LinearRegression\n",
    "from sklearn import metrics"
   ]
  },
  {
   "cell_type": "markdown",
   "metadata": {},
   "source": [
    "## Calculating the Offensive Efficiency Rating\n",
    "\n",
    "#### Game : UC San Diego Tritons @ Simon Fraser Clan \n",
    "#### Date : 11/8/2019\n"
   ]
  },
  {
   "cell_type": "code",
   "execution_count": 50,
   "metadata": {},
   "outputs": [],
   "source": [
    "OFER = []\n",
    "DFER = []\n",
    "\n",
    "TEAM_FGM = float(35)\n",
    "TEAM_FGA = float(69)\n",
    "TEAM_FTA = float(11)\n",
    "TEAM_FTM = float(9)\n",
    "TEAM_OREB = float(11)\n",
    "TEAM_DREB = float(29)\n",
    "TEAM_TO = float(11)\n",
    "OPP_FTA = float(21)\n",
    "OPP_FTM = float(18)\n",
    "OPP_FGA = float(58)\n",
    "OPP_FGM = float(25)\n",
    "OPP_OREB = float(4)\n",
    "OPP_DREB = float(21)\n",
    "OPP_TO = float(9)\n",
    "\n",
    "Total_Points = float(95)\n",
    "\n",
    "Total_Possesions = 0.5*((TEAM_FGA + 0.4*TEAM_FTA - 1.07*(TEAM_OREB/(TEAM_OREB+OPP_DREB))*(TEAM_FGA-TEAM_FGM)+TEAM_TO)\\\n",
    "                        +(OPP_FGA + 0.4*OPP_FTA - 1.07*(OPP_OREB/(OPP_OREB+TEAM_DREB))*(OPP_FGA-OPP_FGM)+OPP_TO))\n",
    "\n",
    "Game_OFER = 100*(Total_Points/Total_Possesions)\n",
    "OFER.append(Game_OFER)"
   ]
  },
  {
   "cell_type": "code",
   "execution_count": 51,
   "metadata": {},
   "outputs": [
    {
     "data": {
      "text/plain": [
       "132.853777810797"
      ]
     },
     "execution_count": 51,
     "metadata": {},
     "output_type": "execute_result"
    }
   ],
   "source": [
    "Game_OFER"
   ]
  },
  {
   "cell_type": "markdown",
   "metadata": {},
   "source": [
    "## Calculating the Deffensive Efficiency Rating\n",
    "\n",
    "#### Game : UC San Diego Tritons @ Simon Fraser Clan \n",
    "#### Date : 11/8/2019\n"
   ]
  },
  {
   "cell_type": "code",
   "execution_count": 52,
   "metadata": {},
   "outputs": [
    {
     "data": {
      "text/plain": [
       "97.89225733427148"
      ]
     },
     "execution_count": 52,
     "metadata": {},
     "output_type": "execute_result"
    }
   ],
   "source": [
    "Points_allowed = float(70)\n",
    "Game_DFER = 100*(Points_allowed / Total_Possesions)\n",
    "DFER.append(Game_DFER)\n",
    "Game_DFER"
   ]
  },
  {
   "cell_type": "markdown",
   "metadata": {},
   "source": [
    "## Calculating the Offensive Efficiency Rating\n",
    "\n",
    "#### Game : UC San Diego Tritons @ Western Washington Vikings\n",
    "#### Date : 11/9/2019\n"
   ]
  },
  {
   "cell_type": "code",
   "execution_count": 53,
   "metadata": {},
   "outputs": [],
   "source": [
    "Tritons_Game2_data = pd.read_excel('Tritons_GM2_Off_Deff_RTG_DATA.xlsx', sheet_name='Tritons')\n",
    "WWV_Game2_data = pd.read_excel('Tritons_GM2_Off_Deff_RTG_DATA.xlsx', sheet_name='WWV')"
   ]
  },
  {
   "cell_type": "code",
   "execution_count": 54,
   "metadata": {},
   "outputs": [],
   "source": [
    "TEAM_FGM = float(Tritons_Game2_data['FGM'])\n",
    "TEAM_FGA = float(Tritons_Game2_data['FGA'])\n",
    "TEAM_FTA = float(Tritons_Game2_data['FTA'])\n",
    "TEAM_FTM = float(Tritons_Game2_data['FTM'])\n",
    "TEAM_OREB = float(Tritons_Game2_data['OREB'])\n",
    "TEAM_DREB = float(Tritons_Game2_data['DREB'])\n",
    "TEAM_TO = float(Tritons_Game2_data['TO'])\n",
    "OPP_FTA = float(WWV_Game2_data['FTA'])\n",
    "OPP_FTM = float(WWV_Game2_data['FTM'])\n",
    "OPP_FGA = float(WWV_Game2_data['FGA'])\n",
    "OPP_FGM = float(WWV_Game2_data['FGM'])\n",
    "OPP_OREB = float(WWV_Game2_data['OREB'])\n",
    "OPP_DREB = float(WWV_Game2_data['DREB'])\n",
    "OPP_TO = float(WWV_Game2_data['TO'])"
   ]
  },
  {
   "cell_type": "code",
   "execution_count": 55,
   "metadata": {},
   "outputs": [
    {
     "data": {
      "text/plain": [
       "116.18985603669154"
      ]
     },
     "execution_count": 55,
     "metadata": {},
     "output_type": "execute_result"
    }
   ],
   "source": [
    "Total_Points = float(Tritons_Game2_data['Pts'])\n",
    "\n",
    "Total_Possesions = 0.5*((TEAM_FGA + 0.4*TEAM_FTA - 1.07*(TEAM_OREB/(TEAM_OREB+OPP_DREB))*(TEAM_FGA-TEAM_FGM)+TEAM_TO)\\\n",
    "                        +(OPP_FGA + 0.4*OPP_FTA - 1.07*(OPP_OREB/(OPP_OREB+TEAM_DREB))*(OPP_FGA-OPP_FGM)+OPP_TO))\n",
    "\n",
    "Game_OFER = 100*(Total_Points/Total_Possesions)\n",
    "OFER.append(Game_OFER)\n",
    "Game_OFER"
   ]
  },
  {
   "cell_type": "markdown",
   "metadata": {},
   "source": [
    "## Calculating the Defensive Efficiency Rating\n",
    "\n",
    "#### Game : UC San Diego Tritons @ Western Washington Vikings\n",
    "#### Date : 11/9/2019\n"
   ]
  },
  {
   "cell_type": "code",
   "execution_count": 56,
   "metadata": {},
   "outputs": [
    {
     "data": {
      "text/plain": [
       "105.48815877015416"
      ]
     },
     "execution_count": 56,
     "metadata": {},
     "output_type": "execute_result"
    }
   ],
   "source": [
    "Points_allowed = float(WWV_Game2_data['Pts'])\n",
    "Game_DFER = 100*(Points_allowed / Total_Possesions)\n",
    "DFER.append(Game_DFER)\n",
    "Game_DFER"
   ]
  },
  {
   "cell_type": "code",
   "execution_count": null,
   "metadata": {
    "scrolled": true
   },
   "outputs": [],
   "source": []
  },
  {
   "cell_type": "markdown",
   "metadata": {},
   "source": [
    "## Calculating the Offensive Efficiency Rating\n",
    "\n",
    "#### Game : UC San Diego Tritons @ Saint Martin's Saints\n",
    "#### Date : 11/11/2019\n"
   ]
  },
  {
   "cell_type": "code",
   "execution_count": 67,
   "metadata": {},
   "outputs": [],
   "source": [
    "Tritons_Game3_data = pd.read_excel('Tritons_GM3_Off_Deff_RTG_DATA.xlsx', sheet_name='Tritons')\n",
    "SMS_Game3_data = pd.read_excel('Tritons_GM3_Off_Deff_RTG_DATA.xlsx', sheet_name='ST.MS')"
   ]
  },
  {
   "cell_type": "code",
   "execution_count": 68,
   "metadata": {},
   "outputs": [],
   "source": [
    "TEAM_FGM = float(Tritons_Game3_data['FGM'])\n",
    "TEAM_FGA = float(Tritons_Game3_data['FGA'])\n",
    "TEAM_FTA = float(Tritons_Game3_data['FTA'])\n",
    "TEAM_FTM = float(Tritons_Game3_data['FTM'])\n",
    "TEAM_OREB = float(Tritons_Game3_data['OREB'])\n",
    "TEAM_DREB = float(Tritons_Game3_data['DREB'])\n",
    "TEAM_TO = float(Tritons_Game3_data['TO'])\n",
    "OPP_FTA = float(SMS_Game3_data['FTA'])\n",
    "OPP_FTM = float(SMS_Game3_data['FTM'])\n",
    "OPP_FGA = float(SMS_Game3_data['FGA'])\n",
    "OPP_FGM = float(SMS_Game3_data['FGM'])\n",
    "OPP_OREB = float(SMS_Game3_data['OREB'])\n",
    "OPP_DREB = float(SMS_Game3_data['DREB'])\n",
    "OPP_TO = float(SMS_Game3_data['TO'])"
   ]
  },
  {
   "cell_type": "code",
   "execution_count": 69,
   "metadata": {},
   "outputs": [
    {
     "data": {
      "text/plain": [
       "130.26792944407282"
      ]
     },
     "execution_count": 69,
     "metadata": {},
     "output_type": "execute_result"
    }
   ],
   "source": [
    "Total_Points = float(Tritons_Game3_data['Pts'])\n",
    "\n",
    "Total_Possesions = 0.5*((TEAM_FGA + 0.4*TEAM_FTA - 1.07*(TEAM_OREB/(TEAM_OREB+OPP_DREB))*(TEAM_FGA-TEAM_FGM)+TEAM_TO)\\\n",
    "                        +(OPP_FGA + 0.4*OPP_FTA - 1.07*(OPP_OREB/(OPP_OREB+TEAM_DREB))*(OPP_FGA-OPP_FGM)+OPP_TO))\n",
    "\n",
    "Game_OFER = 100*(Total_Points/Total_Possesions)\n",
    "OFER.append(Game_OFER)\n",
    "Game_OFER"
   ]
  },
  {
   "cell_type": "code",
   "execution_count": null,
   "metadata": {},
   "outputs": [],
   "source": []
  },
  {
   "cell_type": "markdown",
   "metadata": {},
   "source": [
    "## Calculating the Defensive Efficiency Rating\n",
    "\n",
    "#### Game : UC San Diego Tritons @ Saint Martin's Saints\n",
    "#### Date : 11/11/2019\n"
   ]
  },
  {
   "cell_type": "code",
   "execution_count": 71,
   "metadata": {},
   "outputs": [
    {
     "data": {
      "text/plain": [
       "81.41745590254551"
      ]
     },
     "execution_count": 71,
     "metadata": {},
     "output_type": "execute_result"
    }
   ],
   "source": [
    "Points_allowed = float(SMS_Game3_data['Pts'])\n",
    "Game_DFER = 100*(Points_allowed / Total_Possesions)\n",
    "DFER.append(Game_DFER)\n",
    "Game_DFER"
   ]
  },
  {
   "cell_type": "code",
   "execution_count": null,
   "metadata": {},
   "outputs": [],
   "source": []
  },
  {
   "cell_type": "markdown",
   "metadata": {},
   "source": [
    "## Calculating the Offensive Efficiency Rating\n",
    "\n",
    "#### Game : Point Loma Nazarene Sea Lions @ UC San Diego Tritons\n",
    "#### Date : 11/19/2019\n"
   ]
  },
  {
   "cell_type": "code",
   "execution_count": 75,
   "metadata": {},
   "outputs": [],
   "source": [
    "Tritons_Game4_data = pd.read_excel('Tritons_GM4_Off_Deff_RTG_DATA.xlsx', sheet_name='Tritons')\n",
    "SL_Game4_data = pd.read_excel('Tritons_GM4_Off_Deff_RTG_DATA.xlsx', sheet_name='SeaLions')"
   ]
  },
  {
   "cell_type": "code",
   "execution_count": 76,
   "metadata": {},
   "outputs": [],
   "source": [
    "TEAM_FGM = float(Tritons_Game4_data['FGM'])\n",
    "TEAM_FGA = float(Tritons_Game4_data['FGA'])\n",
    "TEAM_FTA = float(Tritons_Game4_data['FTA'])\n",
    "TEAM_FTM = float(Tritons_Game4_data['FTM'])\n",
    "TEAM_OREB = float(Tritons_Game4_data['OREB'])\n",
    "TEAM_DREB = float(Tritons_Game4_data['DREB'])\n",
    "TEAM_TO = float(Tritons_Game4_data['TO'])\n",
    "OPP_FTA = float(SL_Game4_data['FTA'])\n",
    "OPP_FTM = float(SL_Game4_data['FTM'])\n",
    "OPP_FGA = float(SL_Game4_data['FGA'])\n",
    "OPP_FGM = float(SL_Game4_data['FGM'])\n",
    "OPP_OREB = float(SL_Game4_data['OREB'])\n",
    "OPP_DREB = float(SL_Game4_data['DREB'])\n",
    "OPP_TO = float(SL_Game4_data['TO'])"
   ]
  },
  {
   "cell_type": "code",
   "execution_count": 77,
   "metadata": {},
   "outputs": [
    {
     "data": {
      "text/plain": [
       "130.2143198759159"
      ]
     },
     "execution_count": 77,
     "metadata": {},
     "output_type": "execute_result"
    }
   ],
   "source": [
    "Total_Points = float(Tritons_Game4_data['Pts'])\n",
    "\n",
    "Total_Possesions = 0.5*((TEAM_FGA + 0.4*TEAM_FTA - 1.07*(TEAM_OREB/(TEAM_OREB+OPP_DREB))*(TEAM_FGA-TEAM_FGM)+TEAM_TO)\\\n",
    "                        +(OPP_FGA + 0.4*OPP_FTA - 1.07*(OPP_OREB/(OPP_OREB+TEAM_DREB))*(OPP_FGA-OPP_FGM)+OPP_TO))\n",
    "\n",
    "Game_OFER = 100*(Total_Points/Total_Possesions)\n",
    "OFER.append(Game_OFER)\n",
    "Game_OFER"
   ]
  },
  {
   "cell_type": "markdown",
   "metadata": {},
   "source": [
    "## Calculating the Defensive Efficiency Rating\n",
    "\n",
    "#### Game : Point Loma Nazarene Sea Lions @ UC San Diego Tritons\n",
    "#### Date : 11/19/2019\n"
   ]
  },
  {
   "cell_type": "code",
   "execution_count": 79,
   "metadata": {},
   "outputs": [
    {
     "data": {
      "text/plain": [
       "93.22161536571252"
      ]
     },
     "execution_count": 79,
     "metadata": {},
     "output_type": "execute_result"
    }
   ],
   "source": [
    "Points_allowed = float(SL_Game4_data['Pts'])\n",
    "Game_DFER = 100*(Points_allowed / Total_Possesions)\n",
    "DFER.append(Game_DFER)\n",
    "Game_DFER"
   ]
  },
  {
   "cell_type": "code",
   "execution_count": 88,
   "metadata": {},
   "outputs": [
    {
     "name": "stdout",
     "output_type": "stream",
     "text": [
      "OFER: [132.853777810797, 116.18985603669154, 130.26792944407282, 130.2143198759159] \n",
      " DFER: [97.89225733427148, 105.48815877015416, 81.41745590254551, 93.22161536571252]\n"
     ]
    }
   ],
   "source": [
    "print('OFER:',OFER,'\\n','DFER:',DFER)"
   ]
  },
  {
   "cell_type": "code",
   "execution_count": null,
   "metadata": {},
   "outputs": [],
   "source": []
  }
 ],
 "metadata": {
  "kernelspec": {
   "display_name": "Python 3",
   "language": "python",
   "name": "python3"
  },
  "language_info": {
   "codemirror_mode": {
    "name": "ipython",
    "version": 3
   },
   "file_extension": ".py",
   "mimetype": "text/x-python",
   "name": "python",
   "nbconvert_exporter": "python",
   "pygments_lexer": "ipython3",
   "version": "3.7.4"
  }
 },
 "nbformat": 4,
 "nbformat_minor": 2
}
